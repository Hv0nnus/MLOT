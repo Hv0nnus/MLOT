{
 "cells": [
  {
   "cell_type": "markdown",
   "metadata": {},
   "source": [
    "# Launch MLOT and other methods"
   ]
  },
  {
   "cell_type": "markdown",
   "metadata": {},
   "source": [
    "Basic run to check if everything is working"
   ]
  },
  {
   "cell_type": "code",
   "execution_count": 2,
   "metadata": {},
   "outputs": [
    {
     "name": "stdout",
     "output_type": "stream",
     "text": [
      "Namespace(SA=False, adaptationAlgoUsed='MLOT', cross_val=False, cuda=False, d=70, detach=False, featuresToUse='surf', lr=0.001, margin=10, max_inner_iter_grad=1, max_iter=2, new_space=True, numberIteration=1, pickle_name='test', reg_cl=0.2, reg_e=0.2, reg_l=1, reg_pca=1, rule='median', save_pickle=False, specific_comparaison='None', svd_solver='auto', test_exp=True, time_cross_val=1, type_classifier='1NN', verbose=False, which_dataset=-1)\n",
      "A->C .\n",
      "     40.3  0.0  MLOT     2.62s\n",
      "\n",
      "Mean results and total time\n",
      "     40.3  0.0  MLOT     2.62s\n"
     ]
    }
   ],
   "source": [
    "!python main.py -n -t --numberIteration 1 --max_iter 2"
   ]
  },
  {
   "cell_type": "markdown",
   "metadata": {},
   "source": [
    "Test all the methods"
   ]
  },
  {
   "cell_type": "code",
   "execution_count": 5,
   "metadata": {},
   "outputs": [
    {
     "name": "stdout",
     "output_type": "stream",
     "text": [
      "Namespace(SA=False, adaptationAlgoUsed='MLOT,OTDA,OTDA_pca,OT,CORAL,TCA,SA,NA,JDOTSVM,LMNN', cross_val=False, cuda=False, d=70, detach=False, featuresToUse='surf', lr=0.001, margin=10, max_inner_iter_grad=1, max_iter=1, new_space=True, numberIteration=10, pickle_name='test', reg_cl=0.2, reg_e=0.2, reg_l=1, reg_pca=1, rule='median', save_pickle=False, specific_comparaison='None', svd_solver='full', test_exp=True, time_cross_val=1, type_classifier='1NN', verbose=False, which_dataset=-1)\n",
      "A->C ..........\n",
      "     40.5  0.0  MLOT     1.76s\n",
      "     40.3  0.0  OTDA     1.18s\n",
      "     40.5  0.0  OTDA_pca   1.61s\n",
      "     32.1  0.0  OT       1.14s\n",
      "     25.4  0.0  CORAL    2.11s\n",
      "     38.8  0.0  TCA      3.84s\n",
      "     40.9  0.0  SA       0.29s\n",
      "     26.0  0.0  NA       1.19s\n",
      "     32.1  0.0  JDOTSVM   4.73s\n",
      "     30.5  0.0  LMNN     1.59s\n",
      "\n",
      "Mean results and total time\n",
      "     40.5  0.0  MLOT     1.76s\n",
      "     40.3  0.0  OTDA     1.18s\n",
      "     40.5  0.0  OTDA_pca   1.61s\n",
      "     32.1  0.0  OT       1.14s\n",
      "     25.4  0.0  CORAL    2.11s\n",
      "     38.8  0.0  TCA      3.84s\n",
      "     40.9  0.0  SA       0.29s\n",
      "     26.0  0.0  NA       1.19s\n",
      "     32.1  0.0  JDOTSVM   4.73s\n",
      "     30.5  0.0  LMNN     1.59s\n"
     ]
    }
   ],
   "source": [
    "!python main.py -n -t --svd_solver full --max_iter 1 --adaptationAlgoUsed MLOT,OTDA,OTDA_pca,OT,CORAL,TCA,SA,NA,JDOTSVM,LMNN"
   ]
  },
  {
   "cell_type": "markdown",
   "metadata": {},
   "source": [
    "Run of MLOT with default hyperparameter "
   ]
  },
  {
   "cell_type": "code",
   "execution_count": 6,
   "metadata": {},
   "outputs": [
    {
     "name": "stdout",
     "output_type": "stream",
     "text": [
      "Namespace(SA=False, adaptationAlgoUsed='MLOT', cross_val=False, cuda=False, d=70, detach=False, featuresToUse='surf', lr=0.001, margin=10, max_inner_iter_grad=1, max_iter=10, new_space=True, numberIteration=10, pickle_name='test', reg_cl=0.2, reg_e=0.2, reg_l=1, reg_pca=1, rule='median', save_pickle=False, specific_comparaison='None', svd_solver='full', test_exp=False, time_cross_val=1, type_classifier='1NN', verbose=False, which_dataset=-1)\n",
      "A->C .\n",
      "     41.3  0.0  MLOT    10.43s\n",
      "A->D .\n",
      "     39.5  0.0  MLOT     6.60s\n",
      "A->W .\n",
      "     48.1  0.0  MLOT     7.27s\n",
      "C->A .\n",
      "     55.5  0.0  MLOT    11.80s\n",
      "C->D .\n",
      "     52.9  0.0  MLOT     8.10s\n",
      "C->W .\n",
      "     54.9  0.0  MLOT     9.20s\n",
      "D->A .\n",
      "     40.0  0.0  MLOT     4.63s\n",
      "D->C .\n",
      "     33.7  0.0  MLOT     4.77s\n",
      "D->W .\n",
      "     85.4  0.0  MLOT     4.06s\n",
      "W->A .\n",
      "     40.1  0.0  MLOT     6.04s\n",
      "W->C .\n",
      "     36.1  0.0  MLOT     5.64s\n",
      "W->D .\n",
      "     75.2  0.0  MLOT     4.43s\n",
      "\n",
      "Mean results and total time\n",
      "     50.2  0.0  MLOT    82.97s\n"
     ]
    }
   ],
   "source": [
    "!python main.py -n --svd_solver full"
   ]
  },
  {
   "cell_type": "markdown",
   "metadata": {},
   "source": [
    "# Cross validation run"
   ]
  },
  {
   "cell_type": "markdown",
   "metadata": {},
   "source": [
    "This code need to be run for each feature, each dataset and each method. This can easily be parallelized. The code bellow launch only one dataset for one method."
   ]
  },
  {
   "cell_type": "code",
   "execution_count": 42,
   "metadata": {},
   "outputs": [
    {
     "name": "stdout",
     "output_type": "stream",
     "text": [
      "Namespace(SA=True, adaptationAlgoUsed='MLOT', cross_val=True, cuda=False, d=70, detach=False, featuresToUse='surf', lr=0.001, margin=10, max_inner_iter_grad=1, max_iter=10, new_space=True, numberIteration=10, pickle_name='test', reg_cl=0.1, reg_e=0.1, reg_l=1, reg_pca=1, rule='median', save_pickle=False, specific_comparaison='None', svd_solver='auto', test_exp=False, time_cross_val=48.0, type_classifier='1NN', verbose=False, which_dataset=0)\n",
      "A->C \n",
      "Train :  MLOT\n",
      "0 : result 47.32985386221294 target result 37.702582368655385 d 40 max_iter 5 reg_e 0.3 reg_l 100 reg_cl 0.1 reg_pca -1 lr -1 margin 0.1\n"
     ]
    }
   ],
   "source": [
    "!python main.py -n -c -sa --adaptationAlgoUsed MLOT --featuresToUse surf --which_dataset 0 --time_cross_val 48 --pickle_name pickle"
   ]
  },
  {
   "cell_type": "markdown",
   "metadata": {},
   "source": [
    "# Cross validation analysis"
   ]
  },
  {
   "cell_type": "markdown",
   "metadata": {},
   "source": [
    "This code can be run only if the cross validation file are already saved. IMPORTANT : The -r parameter can solve some bug by deleting wrong run of the cross validation and reformating the pickle file.\n",
    "The parameter \"rule\" is used to chose how we find the best hyperparameter set. The easiest way is to use max which take the best set of hyperparameter. This is not the only solution, for example, \"mean\" is also implemented which take the best hyperparameter on average. \"precentile\" is also implemented."
   ]
  },
  {
   "cell_type": "code",
   "execution_count": 9,
   "metadata": {
    "scrolled": true
   },
   "outputs": [
    {
     "name": "stdout",
     "output_type": "stream",
     "text": [
      "amazon caltech10 MLOT max surf_SA\n",
      "{'d': 50.0, 'reg_e': 0.05, 'reg_cl': 0.05, 'reg_l': 0.01, 'max_iter': 6.0, 'margin': 0.001, 'lr': 0.001, 'reg_pca': 1}\n",
      "A->C ..........\n",
      "     41.9  0.4  MLOT   560.41s\n",
      "\n",
      "Mean results and total time\n",
      "     41.9  0.4  MLOT   560.41s\n",
      "amazon dslr MLOT max surf_SA\n",
      "{'d': 80.0, 'reg_e': 0.05, 'reg_cl': 0.1, 'reg_l': 1.0, 'max_iter': 2.0, 'margin': 0.1, 'lr': 0.001, 'reg_pca': 1}\n",
      "A->D ..........\n",
      "     40.8  1.5  MLOT    63.85s\n",
      "\n",
      "Mean results and total time\n",
      "     40.8  1.5  MLOT    63.85s\n",
      "amazon webcam MLOT max surf_SA\n",
      "{'d': 100.0, 'reg_e': 0.05, 'reg_cl': 0.3, 'reg_l': 0.01, 'max_iter': 5.0, 'margin': 0.01, 'lr': 0.001, 'reg_pca': 1}\n",
      "A->W ..........\n",
      "     41.7  1.0  MLOT   214.64s\n",
      "\n",
      "Mean results and total time\n",
      "     41.7  1.0  MLOT   214.64s\n",
      "caltech10 amazon MLOT max surf_SA\n",
      "{'d': 90.0, 'reg_e': 0.05, 'reg_cl': 0.05, 'reg_l': 1.0, 'max_iter': 5.0, 'margin': 0.001, 'lr': 0.001, 'reg_pca': 1}\n",
      "C->A ..........\n",
      "     51.1  0.4  MLOT   397.37s\n",
      "\n",
      "Mean results and total time\n",
      "     51.1  0.4  MLOT   397.37s\n",
      "caltech10 dslr MLOT max surf_SA\n",
      "{'d': 90.0, 'reg_e': 0.1, 'reg_cl': 0.03, 'reg_l': 0.001, 'max_iter': 18.0, 'margin': 10.0, 'lr': 0.001, 'reg_pca': 1}\n",
      "C->D ..........\n",
      "     52.7  2.4  MLOT   808.35s\n",
      "\n",
      "Mean results and total time\n",
      "     52.7  2.4  MLOT   808.35s\n",
      "caltech10 webcam MLOT max surf_SA\n",
      "{'d': 90.0, 'reg_e': 0.05, 'reg_cl': 0.05, 'reg_l': 1.0, 'max_iter': 5.0, 'margin': 0.001, 'lr': 0.001, 'reg_pca': 1}\n",
      "C->W ..........\n",
      "     46.6  1.1  MLOT   241.26s\n",
      "\n",
      "Mean results and total time\n",
      "     46.6  1.1  MLOT   241.26s\n",
      "dslr amazon MLOT max surf_SA\n",
      "{'d': 80.0, 'reg_e': 0.05, 'reg_cl': 0.1, 'reg_l': 1.0, 'max_iter': 2.0, 'margin': 0.1, 'lr': 0.001, 'reg_pca': 1}\n",
      "D->A ..........\n",
      "     38.1  0.6  MLOT    49.74s\n",
      "\n",
      "Mean results and total time\n",
      "     38.1  0.6  MLOT    49.74s\n",
      "dslr caltech10 MLOT max surf_SA\n",
      "{'d': 80.0, 'reg_e': 0.05, 'reg_cl': 0.1, 'reg_l': 1.0, 'max_iter': 2.0, 'margin': 0.1, 'lr': 0.001, 'reg_pca': 1}\n",
      "D->C ..........\n",
      "     34.4  0.5  MLOT    51.00s\n",
      "\n",
      "Mean results and total time\n",
      "     34.4  0.5  MLOT    51.00s\n",
      "dslr webcam MLOT max surf_SA\n",
      "{'d': 80.0, 'reg_e': 0.05, 'reg_cl': 0.01, 'reg_l': 1.0, 'max_iter': 6.0, 'margin': 5.0, 'lr': 0.001, 'reg_pca': 1}\n",
      "D->W ..........\n",
      "     87.6  0.9  MLOT   126.30s\n",
      "\n",
      "Mean results and total time\n",
      "     87.6  0.9  MLOT   126.30s\n",
      "webcam amazon MLOT max surf_SA\n",
      "{'d': 80.0, 'reg_e': 0.05, 'reg_cl': 0.1, 'reg_l': 1.0, 'max_iter': 2.0, 'margin': 0.1, 'lr': 0.001, 'reg_pca': 1}\n",
      "W->A ..........\n",
      "     37.9  1.0  MLOT    70.96s\n",
      "\n",
      "Mean results and total time\n",
      "     37.9  1.0  MLOT    70.96s\n",
      "webcam caltech10 MLOT max surf_SA\n",
      "{'d': 80.0, 'reg_e': 0.05, 'reg_cl': 0.7, 'reg_l': 100.0, 'max_iter': 2.0, 'margin': 5.0, 'lr': 0.001, 'reg_pca': 1}\n",
      "W->C ..........\n",
      "     33.0  0.6  MLOT    69.69s\n",
      "\n",
      "Mean results and total time\n",
      "     33.0  0.6  MLOT    69.69s\n",
      "webcam dslr MLOT max surf_SA\n",
      "{'d': 90.0, 'reg_e': 0.1, 'reg_cl': 0.03, 'reg_l': 0.1, 'max_iter': 3.0, 'margin': 0.01, 'lr': 0.001, 'reg_pca': 1}\n",
      "W->D ..........\n",
      "     90.6  0.8  MLOT    49.57s\n",
      "\n",
      "Mean results and total time\n",
      "     90.6  0.8  MLOT    49.57s\n",
      "A->C ..........\n",
      "     41.8  0.7  MLOT   342.15s\n",
      "A->D ..........\n",
      "     39.9  0.6  MLOT   141.93s\n",
      "A->W ..........\n",
      "     40.6  1.3  MLOT   193.36s\n",
      "C->A ..........\n",
      "     51.5  0.9  MLOT   407.76s\n",
      "C->D ..........\n",
      "     48.1  1.3  MLOT   185.73s\n",
      "C->W ..........\n",
      "     45.3  1.1  MLOT   191.27s\n",
      "D->A ..........\n",
      "     38.4  1.0  MLOT   101.50s\n",
      "D->C ..........\n",
      "     35.0  0.5  MLOT   103.73s\n",
      "D->W ..........\n",
      "     85.1  1.2  MLOT    84.36s\n",
      "W->A ..........\n",
      "     38.3  0.9  MLOT   120.31s\n",
      "W->C ..........\n",
      "     33.4  0.9  MLOT   124.01s\n",
      "W->D ..........\n",
      "     81.1  0.6  MLOT    83.60s\n",
      "\n",
      "Mean results and total time\n",
      "     48.2  0.9  MLOT   2079.70s\n",
      "pickle_latex/testMLOTmaxsurf_SA.pickle\n"
     ]
    }
   ],
   "source": [
    "!python main_cross_val.py -l -la --adaptationAlgoUsed MLOT --featuresToUse surf_SA --save_pickle pickle_latex/ --rule max"
   ]
  },
  {
   "cell_type": "markdown",
   "metadata": {},
   "source": [
    "# Latex result of the cross validation"
   ]
  },
  {
   "cell_type": "code",
   "execution_count": 1,
   "metadata": {},
   "outputs": [],
   "source": [
    "import recreate_table"
   ]
  },
  {
   "cell_type": "code",
   "execution_count": 2,
   "metadata": {
    "scrolled": true
   },
   "outputs": [
    {
     "name": "stdout",
     "output_type": "stream",
     "text": [
      "\\newpage Feature : surf_SA Rule : max Average : False \\newline\n",
      "\\begin{tabular}{lllllllllll}\n",
      "\\toprule\n",
      "         dataset &    NA &  LMNN &            SA & CORAL &            TCA &             OT &           OTDA &      OTDA_pca & JDOTSVMe &                   MLOT \\\\\n",
      "\\midrule\n",
      " A$\\rightarrow$C &  26.0 &  40.3 &  40.2$\\pm$0.2 &  25.4 &           40.0 &           33.9 &           40.2 &  39.4$\\pm$0.5 &     39.9 &  \\textbf{42.3}$\\pm$0.6 \\\\\n",
      " A$\\rightarrow$D &  25.5 &  36.9 &  39.3$\\pm$2.5 &  26.8 &           31.8 &           30.6 &           40.1 &  39.6$\\pm$1.1 &     37.6 &  \\textbf{40.8}$\\pm$0.8 \\\\\n",
      " A$\\rightarrow$W &  29.8 &  38.0 &  39.9$\\pm$1.3 &  26.8 &  \\textbf{41.7} &           32.5 &           37.3 &  39.8$\\pm$0.9 &     38.0 &           41.3$\\pm$1.1 \\\\\n",
      " C$\\rightarrow$A &  23.7 &  46.0 &  41.3$\\pm$1.1 &  23.6 &           39.8 &           41.0 &  \\textbf{52.7} &  48.5$\\pm$0.7 &     48.1 &           51.5$\\pm$0.8 \\\\\n",
      " C$\\rightarrow$D &  25.5 &  45.9 &  45.4$\\pm$1.2 &  26.1 &           44.6 &           36.9 &           47.8 &  51.4$\\pm$1.4 &     49.7 &  \\textbf{52.2}$\\pm$1.3 \\\\\n",
      " C$\\rightarrow$W &  25.8 &  41.7 &  36.6$\\pm$1.1 &  23.7 &           36.9 &           28.1 &  \\textbf{46.4} &  45.8$\\pm$1.4 &     43.4 &           45.9$\\pm$0.8 \\\\\n",
      " D$\\rightarrow$A &  28.5 &  31.1 &  35.4$\\pm$1.0 &  28.8 &           32.9 &           29.3 &           32.4 &  37.8$\\pm$1.0 &     32.8 &  \\textbf{37.8}$\\pm$0.7 \\\\\n",
      " D$\\rightarrow$C &  26.3 &  30.7 &  32.3$\\pm$0.6 &  30.0 &           31.5 &           31.7 &           32.0 &  33.5$\\pm$0.7 &     31.7 &  \\textbf{34.4}$\\pm$0.5 \\\\\n",
      " D$\\rightarrow$W &  63.4 &  77.3 &  88.5$\\pm$1.1 &  84.4 &           84.7 &  \\textbf{88.8} &           88.8 &  87.5$\\pm$1.2 &     82.7 &           87.8$\\pm$0.7 \\\\\n",
      " W$\\rightarrow$A &  23.0 &  32.3 &  32.6$\\pm$0.5 &  26.2 &           29.4 &           34.1 &           33.7 &  37.6$\\pm$0.6 &     37.6 &  \\textbf{38.0}$\\pm$0.8 \\\\\n",
      " W$\\rightarrow$C &  19.9 &  30.4 &  29.0$\\pm$0.6 &  22.6 &           29.2 &           30.1 &  \\textbf{34.1} &  33.3$\\pm$0.5 &     33.1 &           33.2$\\pm$0.6 \\\\\n",
      " W$\\rightarrow$D &  59.2 &  86.6 &  89.5$\\pm$1.0 &  84.1 &           91.7 &           89.2 &  \\textbf{92.4} &  91.8$\\pm$1.2 &     89.8 &           90.8$\\pm$0.8 \\\\\n",
      "             AVG &  31.4 &  44.8 &  45.8$\\pm$1.0 &  35.7 &           44.5 &           42.2 &           48.2 &  48.8$\\pm$0.9 &     47.0 &  \\textbf{49.7}$\\pm$0.8 \\\\\n",
      "\\bottomrule\n",
      "\\end{tabular}\n",
      "\n"
     ]
    }
   ],
   "source": [
    "recreate_table.creat_latex_tables(\"NA,LMNN,SA,CORAL,TCA,OT,OTDA,OTDA_pca,JDOTSVMe,MLOT\")"
   ]
  },
  {
   "cell_type": "code",
   "execution_count": 6,
   "metadata": {
    "scrolled": true
   },
   "outputs": [
    {
     "name": "stdout",
     "output_type": "stream",
     "text": [
      "\\newpage Feature : decaf6_SA Rule : max Average : False \\newline\n",
      "\\begin{tabular}{lllllllllll}\n",
      "\\toprule\n",
      "         dataset &    NA &           LMNN &                     SA &          CORAL &            TCA &    OT &  OTDA &      OTDA_pca &       JDOTSVMe &                   MLOT \\\\\n",
      "\\midrule\n",
      " A$\\rightarrow$C &  71.7 &           80.6 &           81.1$\\pm$0.3 &           72.2 &           77.7 &  82.2 &  80.5 &  79.7$\\pm$0.3 &  \\textbf{83.1} &           81.6$\\pm$0.4 \\\\\n",
      " A$\\rightarrow$D &  73.9 &           81.5 &           83.4$\\pm$0.7 &           72.0 &  \\textbf{84.1} &  77.7 &  76.4 &  73.9$\\pm$1.3 &           70.7 &           75.3$\\pm$0.8 \\\\\n",
      " A$\\rightarrow$W &  68.1 &           72.5 &           74.7$\\pm$1.0 &           64.1 &           71.9 &  71.2 &  71.9 &  75.0$\\pm$0.6 &  \\textbf{76.9} &           72.1$\\pm$0.3 \\\\\n",
      " C$\\rightarrow$A &  87.3 &  \\textbf{91.4} &           87.9$\\pm$0.4 &           81.3 &           89.1 &  90.4 &  86.8 &  87.6$\\pm$0.4 &           90.5 &           90.8$\\pm$0.1 \\\\\n",
      " C$\\rightarrow$D &  79.6 &           79.0 &  \\textbf{87.1}$\\pm$0.7 &           80.3 &           82.8 &  82.8 &  80.9 &  80.1$\\pm$0.5 &           85.4 &           83.3$\\pm$0.7 \\\\\n",
      " C$\\rightarrow$W &  72.5 &           78.0 &  \\textbf{85.9}$\\pm$0.7 &           68.8 &           79.7 &  78.0 &  80.3 &  78.5$\\pm$0.4 &           76.9 &           79.7$\\pm$0.3 \\\\\n",
      " D$\\rightarrow$A &  49.9 &           70.1 &           84.3$\\pm$0.5 &           78.0 &  \\textbf{86.0} &  84.4 &  84.2 &  82.6$\\pm$0.4 &           64.9 &           85.0$\\pm$0.3 \\\\\n",
      " D$\\rightarrow$C &  42.0 &           63.7 &           72.2$\\pm$0.4 &           71.8 &           75.2 &  81.2 &  80.9 &  81.0$\\pm$0.3 &           64.8 &  \\textbf{83.2}$\\pm$0.3 \\\\\n",
      " D$\\rightarrow$W &  91.5 &           95.6 &           99.2$\\pm$0.2 &  \\textbf{99.3} &           99.0 &  99.3 &  99.3 &  98.9$\\pm$0.3 &           98.6 &           98.6$\\pm$0.1 \\\\\n",
      " W$\\rightarrow$A &  62.5 &           73.4 &           76.1$\\pm$0.6 &           69.7 &           81.8 &  81.5 &  81.3 &  77.4$\\pm$0.3 &           64.4 &  \\textbf{85.8}$\\pm$0.4 \\\\\n",
      " W$\\rightarrow$C &  55.3 &           67.0 &           72.7$\\pm$0.4 &           69.1 &           73.6 &  78.6 &  75.7 &  78.0$\\pm$0.4 &           62.0 &  \\textbf{81.1}$\\pm$0.2 \\\\\n",
      " W$\\rightarrow$D &  98.1 &  \\textbf{100.} &           100.$\\pm$0.0 &           100. &           100. &  100. &  100. &  99.0$\\pm$0.3 &           100. &           99.4$\\pm$0.0 \\\\\n",
      "             AVG &  71.0 &           79.4 &           83.7$\\pm$0.5 &           77.2 &           83.4 &  83.9 &  83.2 &  82.6$\\pm$0.5 &           78.2 &  \\textbf{84.7}$\\pm$0.3 \\\\\n",
      "\\bottomrule\n",
      "\\end{tabular}\n",
      "\n"
     ]
    }
   ],
   "source": [
    "recreate_table.creat_latex_tables(\"NA,LMNN,SA,CORAL,TCA,OT,OTDA,OTDA_pca,JDOTSVMe,MLOT\",\n",
    "                                  features=\"decaf6_SA\")"
   ]
  },
  {
   "cell_type": "code",
   "execution_count": 8,
   "metadata": {
    "scrolled": true
   },
   "outputs": [
    {
     "name": "stdout",
     "output_type": "stream",
     "text": [
      "\\newpage Feature : office31fc7_SA Rule : max Average : False \\newline\n",
      "\\begin{tabular}{lllllllllll}\n",
      "\\toprule\n",
      "         dataset &    NA &           LMNN &                     SA & CORAL &   TCA &             OT &           OTDA &      OTDA_pca & JDOTSVMe &                   MLOT \\\\\n",
      "\\midrule\n",
      " A$\\rightarrow$D &  59.6 &           50.6 &  \\textbf{60.6}$\\pm$0.5 &  55.6 &  58.0 &           56.8 &           55.4 &  53.6$\\pm$0.0 &     58.6 &           54.7$\\pm$0.1 \\\\\n",
      " A$\\rightarrow$W &  54.0 &           51.8 &  \\textbf{56.3}$\\pm$0.2 &  56.1 &  52.7 &           49.2 &           50.8 &  53.3$\\pm$0.1 &     51.9 &           54.1$\\pm$0.2 \\\\\n",
      " D$\\rightarrow$A &  42.4 &           48.0 &           45.0$\\pm$0.1 &  42.2 &  44.0 &           48.8 &           48.1 &  48.3$\\pm$0.1 &     45.7 &  \\textbf{50.4}$\\pm$0.0 \\\\\n",
      " D$\\rightarrow$W &  90.9 &           94.7 &           93.2$\\pm$0.1 &  91.7 &  91.7 &           92.1 &  \\textbf{95.0} &  94.0$\\pm$0.1 &     90.9 &           92.6$\\pm$0.1 \\\\\n",
      " W$\\rightarrow$A &  40.8 &           43.8 &           45.0$\\pm$0.1 &  41.0 &  42.5 &  \\textbf{48.3} &           46.9 &  46.1$\\pm$0.1 &     44.4 &           47.6$\\pm$0.1 \\\\\n",
      " W$\\rightarrow$D &  97.8 &  \\textbf{99.0} &           98.6$\\pm$0.0 &  98.0 &  95.6 &           96.8 &           95.4 &  96.0$\\pm$0.0 &     94.6 &           97.7$\\pm$0.1 \\\\\n",
      "             AVG &  64.3 &           64.7 &  \\textbf{66.5}$\\pm$0.2 &  64.1 &  64.1 &           65.3 &           65.3 &  65.2$\\pm$0.1 &     64.4 &           66.2$\\pm$0.1 \\\\\n",
      "\\bottomrule\n",
      "\\end{tabular}\n",
      "\n"
     ]
    }
   ],
   "source": [
    "recreate_table.creat_latex_tables(\"NA,LMNN,SA,CORAL,TCA,OT,OTDA,OTDA_pca,JDOTSVMe,MLOT\",\n",
    "                                  features=\"office31fc7_SA\")"
   ]
  },
  {
   "cell_type": "code",
   "execution_count": 2,
   "metadata": {},
   "outputs": [
    {
     "name": "stdout",
     "output_type": "stream",
     "text": [
      "AVG & 53.8 & 62.6 & 65.1 $\\pm$ 0.6 & 58.0 & 64.0 & 63.5 & 65.6 & 65.6 $\\pm$ 0.6 & 63.0 & 67.0 $\\pm$ 0.5 & \\\\\n"
     ]
    }
   ],
   "source": [
    "recreate_table.average_result() # The value are hard coded in this function"
   ]
  },
  {
   "cell_type": "markdown",
   "metadata": {},
   "source": [
    "# Reproduce Figure 1"
   ]
  },
  {
   "cell_type": "markdown",
   "metadata": {},
   "source": [
    " This code can be run alone and doesn't need any other file."
   ]
  },
  {
   "cell_type": "code",
   "execution_count": 1,
   "metadata": {},
   "outputs": [],
   "source": [
    "import toy_dataset"
   ]
  },
  {
   "cell_type": "code",
   "execution_count": 2,
   "metadata": {},
   "outputs": [
    {
     "data": {
      "image/png": "[encoded data removed]",
      "text/plain": [
       "<Figure size 432x288 with 1 Axes>"
      ]
     },
     "metadata": {
      "needs_background": "light"
     },
     "output_type": "display_data"
    }
   ],
   "source": [
    "toy_dataset.main(algoName=\"NA\")"
   ]
  },
  {
   "cell_type": "code",
   "execution_count": 3,
   "metadata": {},
   "outputs": [
    {
     "data": {
      "image/png": "[encoded data removed]",
      "text/plain": [
       "<Figure size 432x288 with 1 Axes>"
      ]
     },
     "metadata": {
      "needs_background": "light"
     },
     "output_type": "display_data"
    }
   ],
   "source": [
    "toy_dataset.main(algoName=\"OTDA\")"
   ]
  },
  {
   "cell_type": "code",
   "execution_count": 4,
   "metadata": {},
   "outputs": [
    {
     "data": {
      "image/png": "[encoded data removed]",
      "text/plain": [
       "<Figure size 432x288 with 1 Axes>"
      ]
     },
     "metadata": {
      "needs_background": "light"
     },
     "output_type": "display_data"
    }
   ],
   "source": [
    "toy_dataset.main(algoName=\"MLOT\")"
   ]
  },
  {
   "cell_type": "markdown",
   "metadata": {},
   "source": [
    "# Cheat tables"
   ]
  },
  {
   "cell_type": "markdown",
   "metadata": {},
   "source": [
    "This can be used to recreate all the table in the paper. However to allow more complex cross validation, another code is provided above. It will launch again all the method with the best hyperparameters set, this is essential for random methods.\n",
    "The code bellow can be run only if the cross validation file are already saved."
   ]
  },
  {
   "cell_type": "code",
   "execution_count": 1,
   "metadata": {},
   "outputs": [],
   "source": [
    "import recreate_table"
   ]
  },
  {
   "cell_type": "code",
   "execution_count": 16,
   "metadata": {
    "scrolled": true
   },
   "outputs": [
    {
     "name": "stdout",
     "output_type": "stream",
     "text": [
      "\\newpage Feature :$ surf_SA $ Cheat  True \\newline\n",
      "\\begin{tabular}{lrrrrrlll}\n",
      "\\toprule\n",
      "         dataset &  JDOTSVMe &      OT &    TCA &    LMNN &     SA &           OTDA &       OTDA_pca &           MLOT \\\\\n",
      "\\midrule\n",
      " A$\\rightarrow$C &      41.5 &    33.8 &   40.0 &    41.9 &   40.5 &           42.2 &           42.6 &  \\textbf{43.5} \\\\\n",
      " A$\\rightarrow$D &      42.0 &    34.4 &   33.1 &    42.7 &   40.6 &           47.1 &           49.2 &  \\textbf{50.6} \\\\\n",
      " A$\\rightarrow$W &      38.6 &    33.9 &   41.7 &    40.7 &   41.6 &           46.4 &           50.2 &  \\textbf{51.3} \\\\\n",
      " C$\\rightarrow$A &      48.9 &    45.2 &   40.6 &    48.4 &   42.3 &           53.3 &           55.8 &  \\textbf{57.8} \\\\\n",
      " C$\\rightarrow$D &      49.7 &    44.6 &   44.6 &    47.1 &   46.8 &           55.4 &           56.5 &  \\textbf{57.3} \\\\\n",
      " C$\\rightarrow$W &      43.4 &    38.6 &   38.6 &    44.4 &   41.0 &           53.9 &           55.3 &  \\textbf{59.2} \\\\\n",
      " D$\\rightarrow$A &      33.6 &    30.7 &   34.0 &    37.9 &   36.4 &           38.4 &           40.8 &  \\textbf{42.5} \\\\\n",
      " D$\\rightarrow$C &      33.6 &    32.3 &   32.2 &    33.9 &   33.1 &  \\textbf{36.5} &           36.2 &           36.4 \\\\\n",
      " D$\\rightarrow$W &      86.8 &    88.8 &   86.8 &    77.3 &   89.8 &  \\textbf{91.2} &           90.3 &           90.4 \\\\\n",
      " W$\\rightarrow$A &      38.4 &    39.0 &   30.1 &    36.4 &   34.6 &           41.2 &           41.8 &  \\textbf{42.8} \\\\\n",
      " W$\\rightarrow$C &      34.9 &    32.6 &   30.0 &    32.9 &   31.8 &           35.7 &  \\textbf{36.5} &           36.2 \\\\\n",
      " W$\\rightarrow$D &      90.4 &    89.8 &   92.4 &    91.1 &   90.3 &           92.4 &           92.9 &  \\textbf{93.0} \\\\\n",
      "             AVG &      48.5 &    45.3 &   45.3 &    47.9 &   47.4 &           52.8 &             54 &  \\textbf{55.1} \\\\\n",
      "              nb &    1000.0 &  1000.0 &  884.7 &  1000.0 &  899.4 &           1000 &           1000 &            628 \\\\\n",
      "\\bottomrule\n",
      "\\end{tabular}\n",
      "\n",
      "\\newpage Feature :$ surf_SA $ Cheat  False \\newline\n",
      "\\begin{tabular}{llrlrllrl}\n",
      "\\toprule\n",
      "         dataset &       JDOTSVMe &      OT &            TCA &    LMNN &             SA &           OTDA &  OTDA_pca &           MLOT \\\\\n",
      "\\midrule\n",
      " A$\\rightarrow$C &             40 &    33.8 &             40 &    40.3 &           40.1 &           40.2 &      38.9 &  \\textbf{42.1} \\\\\n",
      " A$\\rightarrow$D &           37.6 &    30.6 &           31.8 &    36.9 &           39.6 &           40.1 &      39.1 &  \\textbf{40.3} \\\\\n",
      " A$\\rightarrow$W &             38 &    32.5 &  \\textbf{41.7} &    38.0 &           39.8 &           37.3 &      40.5 &           41.5 \\\\\n",
      " C$\\rightarrow$A &           48.4 &    41.0 &           39.8 &    46.0 &           41.1 &  \\textbf{52.7} &      48.6 &           51.6 \\\\\n",
      " C$\\rightarrow$D &           49.7 &    36.9 &           44.6 &    45.9 &           46.4 &           47.8 &      50.7 &  \\textbf{52.7} \\\\\n",
      " C$\\rightarrow$W &           43.4 &    28.1 &           38.3 &    41.7 &           37.4 &  \\textbf{46.4} &      45.3 &           45.7 \\\\\n",
      " D$\\rightarrow$A &           32.4 &    29.3 &           32.9 &    31.1 &           34.7 &           32.4 &      38.0 &  \\textbf{38.0} \\\\\n",
      " D$\\rightarrow$C &           31.9 &    31.7 &           31.5 &    30.7 &           32.6 &             32 &      33.7 &  \\textbf{34.4} \\\\\n",
      " D$\\rightarrow$W &           82.7 &    88.8 &           84.7 &    77.3 &  \\textbf{89.2} &           88.8 &      88.0 &             88 \\\\\n",
      " W$\\rightarrow$A &  \\textbf{37.7} &    34.1 &           29.4 &    32.3 &           32.5 &           33.2 &      37.0 &           37.6 \\\\\n",
      " W$\\rightarrow$C &           33.2 &    30.1 &           29.2 &    30.4 &           28.9 &  \\textbf{34.1} &      33.5 &           33.1 \\\\\n",
      " W$\\rightarrow$D &           89.8 &    89.2 &           91.7 &    86.6 &           89.3 &  \\textbf{92.4} &      92.1 &           90.1 \\\\\n",
      "             AVG &           47.1 &    42.2 &           44.6 &    44.8 &             46 &           48.1 &      48.8 &  \\textbf{49.6} \\\\\n",
      "              nb &           1000 &  1000.0 &          884.7 &  1000.0 &          899.4 &           1000 &    1000.0 &            628 \\\\\n",
      "\\bottomrule\n",
      "\\end{tabular}\n",
      "\n",
      "\\newpage Feature :$ decaf6_SA $ Cheat  True \\newline\n",
      "\\begin{tabular}{llrlrrrll}\n",
      "\\toprule\n",
      "         dataset &        JDOTSVMe &      OT &            TCA &    LMNN &     SA &    OTDA &       OTDA_pca &           MLOT \\\\\n",
      "\\midrule\n",
      " A$\\rightarrow$C &            85.6 &    84.6 &           78.5 &    83.1 &   81.5 &    88.0 &  \\textbf{88.1} &           87.5 \\\\\n",
      " A$\\rightarrow$D &            87.9 &    79.6 &           84.1 &    85.4 &   83.9 &    91.1 &  \\textbf{92.4} &           90.7 \\\\\n",
      " A$\\rightarrow$W &            82.7 &    76.3 &           73.2 &    76.6 &   75.3 &    89.2 &  \\textbf{91.1} &           89.4 \\\\\n",
      " C$\\rightarrow$A &            91.5 &    90.4 &           89.6 &    92.3 &   88.3 &    93.1 &  \\textbf{93.5} &           92.9 \\\\\n",
      " C$\\rightarrow$D &            88.5 &    89.8 &           82.8 &    89.8 &   87.5 &    90.4 &  \\textbf{92.1} &           91.3 \\\\\n",
      " C$\\rightarrow$W &            78.3 &    81.4 &           81.4 &    80.3 &   86.0 &    88.8 &  \\textbf{92.8} &           89.8 \\\\\n",
      " D$\\rightarrow$A &            86.8 &    89.9 &           86.7 &    73.6 &   84.8 &    92.5 &  \\textbf{92.9} &           92.7 \\\\\n",
      " D$\\rightarrow$C &            81.6 &    85.1 &           77.7 &    70.2 &   78.3 &    87.5 &  \\textbf{88.2} &           88.1 \\\\\n",
      " D$\\rightarrow$W &              99 &    99.3 &  \\textbf{99.7} &    99.3 &   99.5 &    99.3 &           99.3 &           98.1 \\\\\n",
      " W$\\rightarrow$A &            86.2 &    88.2 &           81.8 &    74.1 &   84.9 &    91.2 &           92.4 &  \\textbf{92.8} \\\\\n",
      " W$\\rightarrow$C &            79.6 &    82.6 &             74 &    67.5 &   76.4 &    86.7 &           87.4 &  \\textbf{87.6} \\\\\n",
      " W$\\rightarrow$D &  \\textbf{100.0} &   100.0 &            100 &   100.0 &  100.0 &   100.0 &            100 &           99.2 \\\\\n",
      "             AVG &            87.3 &    87.3 &           84.1 &    82.7 &   85.5 &    91.5 &  \\textbf{92.5} &           91.7 \\\\\n",
      "              nb &            1000 &  1000.0 &            911 &  1000.0 &  724.4 &  1000.0 &           1000 &           22.8 \\\\\n",
      "\\bottomrule\n",
      "\\end{tabular}\n",
      "\n",
      "\\newpage Feature :$ decaf6_SA $ Cheat  False \\newline\n",
      "\\begin{tabular}{llllllrrl}\n",
      "\\toprule\n",
      "         dataset &        JDOTSVMe &             OT &            TCA &           LMNN &             SA &    OTDA &  OTDA_pca &           MLOT \\\\\n",
      "\\midrule\n",
      " A$\\rightarrow$C &   \\textbf{83.0} &           82.2 &           77.7 &           80.6 &           81.1 &    80.5 &      79.5 &           81.5 \\\\\n",
      " A$\\rightarrow$D &            70.7 &           77.7 &  \\textbf{84.1} &           80.3 &           83.4 &    76.4 &      74.1 &           74.6 \\\\\n",
      " A$\\rightarrow$W &            76.9 &           71.2 &           71.9 &           72.5 &           74.8 &    71.9 &      74.9 &  \\textbf{77.2} \\\\\n",
      " C$\\rightarrow$A &            90.5 &           90.4 &           89.1 &  \\textbf{91.4} &           87.8 &    86.8 &      87.4 &           90.8 \\\\\n",
      " C$\\rightarrow$D &            85.4 &           82.8 &           82.8 &             79 &  \\textbf{86.9} &    80.9 &      80.5 &           83.1 \\\\\n",
      " C$\\rightarrow$W &            76.9 &             78 &           79.7 &             78 &  \\textbf{85.8} &    80.3 &      77.8 &           77.7 \\\\\n",
      " D$\\rightarrow$A &            64.9 &           84.4 &             86 &           70.1 &           84.3 &    84.2 &      82.7 &  \\textbf{87.3} \\\\\n",
      " D$\\rightarrow$C &            64.7 &           81.2 &           75.2 &           63.7 &           72.4 &    80.9 &      81.1 &  \\textbf{83.4} \\\\\n",
      " D$\\rightarrow$W &            98.6 &  \\textbf{99.3} &             99 &           95.6 &           99.2 &    98.3 &      98.6 &           96.5 \\\\\n",
      " W$\\rightarrow$A &            64.3 &           81.5 &           81.8 &           73.4 &             76 &    81.3 &      77.4 &  \\textbf{87.8} \\\\\n",
      " W$\\rightarrow$C &            61.9 &           78.6 &           73.6 &             67 &           72.9 &    75.7 &      77.6 &  \\textbf{81.0} \\\\\n",
      " W$\\rightarrow$D &  \\textbf{100.0} &            100 &            100 &            100 &            100 &   100.0 &      99.2 &           99.2 \\\\\n",
      "             AVG &            78.2 &           83.9 &           83.4 &           79.3 &           83.7 &    83.1 &      82.6 &  \\textbf{85.0} \\\\\n",
      "              nb &            1000 &           1000 &            911 &           1000 &          724.4 &  1000.0 &    1000.0 &           22.8 \\\\\n",
      "\\bottomrule\n",
      "\\end{tabular}\n",
      "\n",
      "\\newpage Feature :$ office31fc7_SA $ Cheat  True \\newline\n"
     ]
    },
    {
     "name": "stdout",
     "output_type": "stream",
     "text": [
      "\\begin{tabular}{lrrrlrlll}\n",
      "\\toprule\n",
      "         dataset &  JDOTSVMe &      OT &     TCA &           LMNN &      SA &           OTDA &       OTDA_pca &           MLOT \\\\\n",
      "\\midrule\n",
      " A$\\rightarrow$D &      59.2 &    56.8 &    58.4 &           60.6 &    61.4 &  \\textbf{64.9} &           64.5 &           63.3 \\\\\n",
      " A$\\rightarrow$W &      60.4 &    54.8 &    52.7 &           55.7 &    56.6 &           66.4 &  \\textbf{67.5} &           65.3 \\\\\n",
      " D$\\rightarrow$A &      50.8 &    51.1 &    44.1 &           48.3 &    45.5 &           54.3 &           54.4 &  \\textbf{57.9} \\\\\n",
      " D$\\rightarrow$W &      91.7 &    94.7 &    91.7 &           95.6 &    93.3 &             95 &             95 &  \\textbf{95.7} \\\\\n",
      " W$\\rightarrow$A &      49.4 &    49.7 &    42.7 &           45.9 &    45.5 &           52.7 &           52.7 &  \\textbf{56.2} \\\\\n",
      " W$\\rightarrow$D &      95.0 &    97.2 &    95.8 &  \\textbf{99.2} &    98.8 &           97.2 &           97.2 &           97.8 \\\\\n",
      "             AVG &      67.8 &    67.4 &    64.2 &           67.6 &    66.9 &           71.7 &           71.9 &  \\textbf{72.7} \\\\\n",
      "              nb &     767.8 &  1000.0 &  1000.0 &           1000 &  1000.0 &           1000 &           1000 &            286 \\\\\n",
      "\\bottomrule\n",
      "\\end{tabular}\n",
      "\n",
      "\\newpage Feature :$ office31fc7_SA $ Cheat  False \\newline\n",
      "\\begin{tabular}{lrlrlllrl}\n",
      "\\toprule\n",
      "         dataset &  JDOTSVMe &             OT &     TCA &           LMNN &             SA &           OTDA &  OTDA_pca &           MLOT \\\\\n",
      "\\midrule\n",
      " A$\\rightarrow$D &      57.8 &           56.8 &    58.0 &           50.6 &  \\textbf{61.0} &           55.4 &      53.6 &           54.8 \\\\\n",
      " A$\\rightarrow$W &      52.1 &           49.2 &    52.7 &           51.8 &  \\textbf{56.4} &           50.8 &      53.2 &           53.7 \\\\\n",
      " D$\\rightarrow$A &      45.8 &           48.8 &    44.0 &             48 &             45 &           48.1 &      47.4 &  \\textbf{50.4} \\\\\n",
      " D$\\rightarrow$W &      90.9 &           92.1 &    91.7 &           94.7 &           93.2 &  \\textbf{95.0} &      95.0 &           92.6 \\\\\n",
      " W$\\rightarrow$A &      44.8 &  \\textbf{48.3} &    42.5 &           43.8 &           45.1 &           46.9 &      46.2 &           47.6 \\\\\n",
      " W$\\rightarrow$D &      94.8 &           96.8 &    95.6 &  \\textbf{99.0} &           98.6 &           95.4 &      96.0 &           97.8 \\\\\n",
      "             AVG &      64.4 &           65.3 &    64.1 &           64.7 &  \\textbf{66.5} &           65.3 &      65.2 &           66.2 \\\\\n",
      "              nb &     767.8 &           1000 &  1000.0 &           1000 &           1000 &           1000 &    1000.0 &            286 \\\\\n",
      "\\bottomrule\n",
      "\\end{tabular}\n",
      "\n"
     ]
    }
   ],
   "source": [
    "recreate_table.creat_all_cheat_tables(\"JDOTSVMe,OT,TCA,LMNN,SA,OTDA,OTDA_pca,MLOT\")"
   ]
  },
  {
   "cell_type": "code",
   "execution_count": 8,
   "metadata": {
    "scrolled": true
   },
   "outputs": [
    {
     "name": "stdout",
     "output_type": "stream",
     "text": [
      "\\newpage Feature :$ surf_SA $ Cheat  True \\newline\n",
      "\\begin{tabular}{lrrrrrll}\n",
      "\\toprule\n",
      "         dataset &    NA &     SA &  CORAL &    TCA &      OT &           OTDA &           MLOT \\\\\n",
      "\\midrule\n",
      " A$\\rightarrow$C &  26.0 &   40.5 &   25.4 &   40.0 &    33.8 &           42.2 &  \\textbf{43.5} \\\\\n",
      " A$\\rightarrow$D &  25.5 &   40.6 &   26.8 &   33.1 &    34.4 &           47.1 &  \\textbf{50.6} \\\\\n",
      " A$\\rightarrow$W &  29.8 &   41.6 &   26.8 &   41.7 &    33.9 &           46.4 &  \\textbf{51.3} \\\\\n",
      " C$\\rightarrow$A &  23.7 &   42.3 &   23.6 &   40.6 &    45.2 &           53.3 &  \\textbf{57.8} \\\\\n",
      " C$\\rightarrow$D &  25.5 &   46.8 &   26.1 &   44.6 &    44.6 &           55.4 &  \\textbf{57.3} \\\\\n",
      " C$\\rightarrow$W &  25.8 &   41.0 &   23.7 &   38.6 &    38.6 &           53.9 &  \\textbf{59.2} \\\\\n",
      " D$\\rightarrow$A &  28.5 &   36.4 &   28.8 &   34.0 &    30.7 &           38.4 &  \\textbf{42.5} \\\\\n",
      " D$\\rightarrow$C &  26.3 &   33.1 &   30.0 &   32.2 &    32.3 &  \\textbf{36.5} &           36.4 \\\\\n",
      " D$\\rightarrow$W &  63.4 &   89.8 &   84.4 &   86.8 &    88.8 &  \\textbf{91.2} &           90.4 \\\\\n",
      " W$\\rightarrow$A &  23.0 &   34.6 &   26.2 &   30.1 &    39.0 &           41.2 &  \\textbf{42.8} \\\\\n",
      " W$\\rightarrow$C &  19.9 &   31.8 &   22.6 &   30.0 &    32.6 &           35.7 &  \\textbf{36.2} \\\\\n",
      " W$\\rightarrow$D &  59.2 &   90.3 &   84.1 &   92.4 &    89.8 &           92.4 &  \\textbf{93.0} \\\\\n",
      "             AVG &  31.4 &   47.4 &   35.7 &   45.3 &    45.3 &           52.8 &  \\textbf{55.1} \\\\\n",
      "              nb &   2.0 &  899.4 &  986.8 &  884.7 &  1000.0 &           1000 &            628 \\\\\n",
      "\\bottomrule\n",
      "\\end{tabular}\n",
      "\n",
      "\\newpage Feature :$ surf_SA $ Cheat  False \\newline\n",
      "\\begin{tabular}{lrlrlrll}\n",
      "\\toprule\n",
      "         dataset &    NA &             SA &  CORAL &            TCA &      OT &           OTDA &           MLOT \\\\\n",
      "\\midrule\n",
      " A$\\rightarrow$C &  26.0 &           40.1 &   25.4 &             40 &    33.8 &           40.2 &  \\textbf{42.1} \\\\\n",
      " A$\\rightarrow$D &  25.5 &           39.6 &   26.8 &           31.8 &    30.6 &           40.1 &  \\textbf{40.3} \\\\\n",
      " A$\\rightarrow$W &  29.8 &           39.8 &   26.8 &  \\textbf{41.7} &    32.5 &           37.3 &           41.5 \\\\\n",
      " C$\\rightarrow$A &  23.7 &           41.1 &   23.6 &           39.8 &    41.0 &  \\textbf{52.7} &           51.6 \\\\\n",
      " C$\\rightarrow$D &  25.5 &           46.4 &   26.1 &           44.6 &    36.9 &           47.8 &  \\textbf{52.7} \\\\\n",
      " C$\\rightarrow$W &  25.8 &           37.4 &   23.7 &           38.3 &    28.1 &  \\textbf{46.4} &           45.7 \\\\\n",
      " D$\\rightarrow$A &  28.5 &           34.7 &   28.8 &           32.9 &    29.3 &           32.4 &  \\textbf{38.0} \\\\\n",
      " D$\\rightarrow$C &  26.3 &           32.6 &   30.0 &           31.5 &    31.7 &             32 &  \\textbf{34.4} \\\\\n",
      " D$\\rightarrow$W &  63.4 &  \\textbf{89.2} &   84.4 &           84.7 &    88.8 &           88.8 &             88 \\\\\n",
      " W$\\rightarrow$A &  23.0 &           32.5 &   26.2 &           29.4 &    34.1 &           33.2 &  \\textbf{37.6} \\\\\n",
      " W$\\rightarrow$C &  19.9 &           28.9 &   22.6 &           29.2 &    30.1 &  \\textbf{34.1} &           33.1 \\\\\n",
      " W$\\rightarrow$D &  59.2 &           89.3 &   84.1 &           91.7 &    89.2 &  \\textbf{92.4} &           90.1 \\\\\n",
      "             AVG &  31.4 &             46 &   35.7 &           44.6 &    42.2 &           48.1 &  \\textbf{49.6} \\\\\n",
      "              nb &   2.0 &          899.4 &  986.8 &          884.7 &  1000.0 &           1000 &            628 \\\\\n",
      "\\bottomrule\n",
      "\\end{tabular}\n",
      "\n",
      "\\newpage Feature :$ decaf6_SA $ Cheat  True \\newline\n",
      "\\begin{tabular}{lrlrlrll}\n",
      "\\toprule\n",
      "         dataset &    NA &              SA &  CORAL &            TCA &      OT &           OTDA &           MLOT \\\\\n",
      "\\midrule\n",
      " A$\\rightarrow$C &  71.7 &            81.5 &   72.2 &           78.5 &    84.6 &  \\textbf{88.0} &           87.5 \\\\\n",
      " A$\\rightarrow$D &  73.9 &            83.9 &   72.0 &           84.1 &    79.6 &  \\textbf{91.1} &           90.7 \\\\\n",
      " A$\\rightarrow$W &  68.1 &            75.3 &   64.1 &           73.2 &    76.3 &           89.2 &  \\textbf{89.4} \\\\\n",
      " C$\\rightarrow$A &  87.3 &            88.3 &   81.3 &           89.6 &    90.4 &  \\textbf{93.1} &           92.9 \\\\\n",
      " C$\\rightarrow$D &  79.6 &            87.5 &   80.3 &           82.8 &    89.8 &           90.4 &  \\textbf{91.3} \\\\\n",
      " C$\\rightarrow$W &  72.5 &              86 &   68.8 &           81.4 &    81.4 &           88.8 &  \\textbf{89.8} \\\\\n",
      " D$\\rightarrow$A &  49.9 &            84.8 &   78.0 &           86.7 &    89.9 &           92.5 &  \\textbf{92.7} \\\\\n",
      " D$\\rightarrow$C &  42.0 &            78.3 &   71.8 &           77.7 &    85.1 &           87.5 &  \\textbf{88.1} \\\\\n",
      " D$\\rightarrow$W &  91.5 &            99.5 &   99.3 &  \\textbf{99.7} &    99.3 &           99.3 &           98.1 \\\\\n",
      " W$\\rightarrow$A &  62.5 &            84.9 &   69.7 &           81.8 &    88.2 &           91.2 &  \\textbf{92.8} \\\\\n",
      " W$\\rightarrow$C &  55.3 &            76.4 &   69.1 &             74 &    82.6 &           86.7 &  \\textbf{87.6} \\\\\n",
      " W$\\rightarrow$D &  98.1 &  \\textbf{100.0} &  100.0 &            100 &   100.0 &            100 &           99.2 \\\\\n",
      "             AVG &  71.0 &            85.5 &   77.2 &           84.1 &    87.3 &           91.5 &  \\textbf{91.7} \\\\\n",
      "              nb &   2.3 &           724.4 &  308.7 &            911 &  1000.0 &           1000 &           22.8 \\\\\n",
      "\\bottomrule\n",
      "\\end{tabular}\n",
      "\n",
      "\\newpage Feature :$ decaf6_SA $ Cheat  False \\newline\n",
      "\\begin{tabular}{lrllllrl}\n",
      "\\toprule\n",
      "         dataset &    NA &              SA &          CORAL &            TCA &             OT &    OTDA &           MLOT \\\\\n",
      "\\midrule\n",
      " A$\\rightarrow$C &  71.7 &            81.1 &           72.2 &           77.7 &  \\textbf{82.2} &    80.5 &           81.5 \\\\\n",
      " A$\\rightarrow$D &  73.9 &            83.4 &             72 &  \\textbf{84.1} &           77.7 &    76.4 &           74.6 \\\\\n",
      " A$\\rightarrow$W &  68.1 &            74.8 &           64.1 &           71.9 &           71.2 &    71.9 &  \\textbf{77.2} \\\\\n",
      " C$\\rightarrow$A &  87.3 &            87.8 &           81.3 &           89.1 &           90.4 &    86.8 &  \\textbf{90.8} \\\\\n",
      " C$\\rightarrow$D &  79.6 &   \\textbf{86.9} &           80.3 &           82.8 &           82.8 &    80.9 &           83.1 \\\\\n",
      " C$\\rightarrow$W &  72.5 &   \\textbf{85.8} &           68.8 &           79.7 &             78 &    80.3 &           77.7 \\\\\n",
      " D$\\rightarrow$A &  49.9 &            84.3 &             78 &             86 &           84.4 &    84.2 &  \\textbf{87.3} \\\\\n",
      " D$\\rightarrow$C &  42.0 &            72.4 &           71.8 &           75.2 &           81.2 &    80.9 &  \\textbf{83.4} \\\\\n",
      " D$\\rightarrow$W &  91.5 &            99.2 &  \\textbf{99.3} &             99 &           99.3 &    98.3 &           96.5 \\\\\n",
      " W$\\rightarrow$A &  62.5 &              76 &           69.7 &           81.8 &           81.5 &    81.3 &  \\textbf{87.8} \\\\\n",
      " W$\\rightarrow$C &  55.3 &            72.9 &           69.1 &           73.6 &           78.6 &    75.7 &  \\textbf{81.0} \\\\\n",
      " W$\\rightarrow$D &  98.1 &  \\textbf{100.0} &            100 &            100 &            100 &   100.0 &           99.2 \\\\\n",
      "             AVG &  71.0 &            83.7 &           77.2 &           83.4 &           83.9 &    83.1 &  \\textbf{85.0} \\\\\n",
      "              nb &   2.3 &           724.4 &          308.7 &            911 &           1000 &  1000.0 &           22.8 \\\\\n",
      "\\bottomrule\n",
      "\\end{tabular}\n",
      "\n",
      "\\newpage Feature :$ office31fc7_SA $ Cheat  True \\newline\n",
      "\\begin{tabular}{lrlrrrll}\n",
      "\\toprule\n",
      "         dataset &    NA &             SA &  CORAL &     TCA &      OT &           OTDA &           MLOT \\\\\n",
      "\\midrule\n",
      " A$\\rightarrow$D &  59.6 &           61.4 &   55.6 &    58.4 &    56.8 &  \\textbf{64.9} &           63.3 \\\\\n",
      " A$\\rightarrow$W &  54.0 &           56.6 &   56.1 &    52.7 &    54.8 &  \\textbf{66.4} &           65.3 \\\\\n",
      " D$\\rightarrow$A &  42.4 &           45.5 &   42.2 &    44.1 &    51.1 &           54.3 &  \\textbf{57.9} \\\\\n",
      " D$\\rightarrow$W &  90.9 &           93.3 &   91.7 &    91.7 &    94.7 &             95 &  \\textbf{95.7} \\\\\n",
      " W$\\rightarrow$A &  40.8 &           45.5 &   41.0 &    42.7 &    49.7 &           52.7 &  \\textbf{56.2} \\\\\n",
      " W$\\rightarrow$D &  97.8 &  \\textbf{98.8} &   98.0 &    95.8 &    97.2 &           97.2 &           97.8 \\\\\n",
      "             AVG &  64.3 &           66.9 &   64.1 &    64.2 &    67.4 &           71.7 &  \\textbf{72.7} \\\\\n",
      "              nb &   2.0 &           1000 &    2.0 &  1000.0 &  1000.0 &           1000 &            286 \\\\\n",
      "\\bottomrule\n",
      "\\end{tabular}\n",
      "\n",
      "\\newpage Feature :$ office31fc7_SA $ Cheat  False \\newline\n"
     ]
    },
    {
     "name": "stdout",
     "output_type": "stream",
     "text": [
      "\\begin{tabular}{lrlrrlll}\n",
      "\\toprule\n",
      "         dataset &    NA &             SA &  CORAL &     TCA &             OT &           OTDA &           MLOT \\\\\n",
      "\\midrule\n",
      " A$\\rightarrow$D &  59.6 &  \\textbf{61.0} &   55.6 &    58.0 &           56.8 &           55.4 &           54.8 \\\\\n",
      " A$\\rightarrow$W &  54.0 &  \\textbf{56.4} &   56.1 &    52.7 &           49.2 &           50.8 &           53.7 \\\\\n",
      " D$\\rightarrow$A &  42.4 &             45 &   42.2 &    44.0 &           48.8 &           48.1 &  \\textbf{50.4} \\\\\n",
      " D$\\rightarrow$W &  90.9 &           93.2 &   91.7 &    91.7 &           92.1 &  \\textbf{95.0} &           92.6 \\\\\n",
      " W$\\rightarrow$A &  40.8 &           45.1 &   41.0 &    42.5 &  \\textbf{48.3} &           46.9 &           47.6 \\\\\n",
      " W$\\rightarrow$D &  97.8 &  \\textbf{98.6} &   98.0 &    95.6 &           96.8 &           95.4 &           97.8 \\\\\n",
      "             AVG &  64.3 &  \\textbf{66.5} &   64.1 &    64.1 &           65.3 &           65.3 &           66.2 \\\\\n",
      "              nb &   2.0 &           1000 &    2.0 &  1000.0 &           1000 &           1000 &            286 \\\\\n",
      "\\bottomrule\n",
      "\\end{tabular}\n",
      "\n"
     ]
    }
   ],
   "source": [
    "recreate_table.creat_all_cheat_tables(\"NA,SA,CORAL,TCA,OT,OTDA,MLOT\")"
   ]
  },
  {
   "cell_type": "markdown",
   "metadata": {},
   "source": [
    "# Images"
   ]
  },
  {
   "cell_type": "markdown",
   "metadata": {},
   "source": [
    "The table can be recreate only if the speficic_comparaison has already been launch."
   ]
  },
  {
   "cell_type": "code",
   "execution_count": null,
   "metadata": {},
   "outputs": [],
   "source": [
    "!python main.py -n --specific_comparaison OTDAvsMLOT --adaptationAlgoUsed OTDA,MLOT --pickle_name pickle_specific/"
   ]
  },
  {
   "cell_type": "code",
   "execution_count": 1,
   "metadata": {},
   "outputs": [],
   "source": [
    "import recreate_table"
   ]
  },
  {
   "cell_type": "code",
   "execution_count": 2,
   "metadata": {
    "scrolled": false
   },
   "outputs": [
    {
     "data": {
      "image/png": "[encoded data removed]",
      "text/plain": [
       "<Figure size 720x360 with 1 Axes>"
      ]
     },
     "metadata": {
      "needs_background": "light"
     },
     "output_type": "display_data"
    }
   ],
   "source": [
    "recreate_table.display_image(comparaison=True, color_map='Greens', save_image=True)"
   ]
  },
  {
   "cell_type": "code",
   "execution_count": 3,
   "metadata": {
    "scrolled": false
   },
   "outputs": [
    {
     "data": {
      "image/png": "[encoded data removed]",
      "text/plain": [
       "<Figure size 720x360 with 1 Axes>"
      ]
     },
     "metadata": {
      "needs_background": "light"
     },
     "output_type": "display_data"
    }
   ],
   "source": [
    "recreate_table.display_image(comparaison=False, color_map='YlOrRd', save_image=True)"
   ]
  },
  {
   "cell_type": "markdown",
   "metadata": {},
   "source": [
    "# Non-exhaustive comparison between MLOT and ML + OTDA"
   ]
  },
  {
   "cell_type": "code",
   "execution_count": 28,
   "metadata": {
    "scrolled": true
   },
   "outputs": [
    {
     "name": "stdout",
     "output_type": "stream",
     "text": [
      "Namespace(SA=False, adaptationAlgoUsed='MLOT', cross_val=False, cuda=False, d=70, detach=False, featuresToUse='surf', lr=0.001, margin=10, max_inner_iter_grad=1, max_iter=10, new_space=True, numberIteration=10, pickle_name='test', reg_cl=0.2, reg_e=0.2, reg_l=1, reg_pca=1, rule='median', save_pickle=False, specific_comparaison='None', svd_solver='full', test_exp=False, time_cross_val=1, type_classifier='1NN', verbose=False, which_dataset=-1)\n",
      "A->C .\n",
      "     41.3  0.0  MLOT    10.40s\n",
      "A->D .\n",
      "     39.5  0.0  MLOT     6.49s\n",
      "A->W .\n",
      "     48.1  0.0  MLOT     6.59s\n",
      "C->A .\n",
      "     55.5  0.0  MLOT    11.41s\n",
      "C->D .\n",
      "     52.9  0.0  MLOT     8.34s\n",
      "C->W .\n",
      "     54.9  0.0  MLOT     8.50s\n",
      "D->A .\n",
      "     40.0  0.0  MLOT     4.53s\n",
      "D->C .\n",
      "     33.7  0.0  MLOT     4.33s\n",
      "D->W .\n",
      "     85.4  0.0  MLOT     4.29s\n",
      "W->A .\n",
      "     40.1  0.0  MLOT     6.22s\n",
      "W->C .\n",
      "     36.1  0.0  MLOT    14.22s\n",
      "W->D .\n",
      "     75.2  0.0  MLOT     8.13s\n",
      "\n",
      "Mean results and total time\n",
      "     50.2  0.0  MLOT    93.43s\n"
     ]
    }
   ],
   "source": [
    "!python main.py -n --adaptationAlgoUsed MLOT --svd_solver full"
   ]
  },
  {
   "cell_type": "code",
   "execution_count": 26,
   "metadata": {
    "scrolled": true
   },
   "outputs": [
    {
     "name": "stdout",
     "output_type": "stream",
     "text": [
      "Namespace(SA=False, adaptationAlgoUsed='MLOT', cross_val=False, cuda=False, d=70, detach=False, featuresToUse='surf', lr=0.001, margin=10, max_inner_iter_grad=1000, max_iter=2, new_space=True, numberIteration=10, pickle_name='test', reg_cl=0.2, reg_e=0.2, reg_l=0.0, reg_pca=1, rule='median', save_pickle=False, specific_comparaison='None', svd_solver='full', test_exp=False, time_cross_val=1, type_classifier='1NN', verbose=False, which_dataset=-1)\n",
      "A->C .\n",
      "     40.5  0.0  MLOT     7.24s\n",
      "A->D .\n",
      "     38.9  0.0  MLOT     4.50s\n",
      "A->W .\n",
      "     44.7  0.0  MLOT    21.79s\n",
      "C->A .\n",
      "     54.0  0.0  MLOT    15.11s\n",
      "C->D .\n",
      "     47.8  0.0  MLOT     7.52s\n",
      "C->W .\n",
      "     50.5  0.0  MLOT    18.17s\n",
      "D->A .\n",
      "     39.2  0.0  MLOT     4.56s\n",
      "D->C .\n",
      "     33.3  0.0  MLOT     4.68s\n",
      "D->W .\n",
      "     84.1  0.0  MLOT     7.75s\n",
      "W->A .\n",
      "     39.0  0.0  MLOT     2.17s\n",
      "W->C .\n",
      "     35.4  0.0  MLOT     8.03s\n",
      "W->D .\n",
      "     79.6  0.0  MLOT     3.69s\n",
      "\n",
      "Mean results and total time\n",
      "     48.9  0.0  MLOT   105.20s\n"
     ]
    }
   ],
   "source": [
    "!python main.py -n --adaptationAlgoUsed MLOT --svd_solver full --max_iter 2 --max_inner_iter_grad 1000 --reg_l 0"
   ]
  },
  {
   "cell_type": "code",
   "execution_count": 27,
   "metadata": {
    "scrolled": true
   },
   "outputs": [
    {
     "name": "stdout",
     "output_type": "stream",
     "text": [
      "Namespace(SA=False, adaptationAlgoUsed='MLOT', cross_val=False, cuda=False, d=70, detach=False, featuresToUse='surf', lr=0.001, margin=10, max_inner_iter_grad=1, max_iter=10, new_space=True, numberIteration=10, pickle_name='test', reg_cl=0.2, reg_e=0.2, reg_l=1, reg_pca=1, rule='median', save_pickle=False, specific_comparaison='None', svd_solver='auto', test_exp=False, time_cross_val=1, type_classifier='1NN', verbose=False, which_dataset=-1)\n",
      "A->C ..........\n",
      "     41.9  0.5  MLOT   573.42s\n",
      "A->D ..........\n",
      "     40.0  1.7  MLOT   374.13s\n",
      "A->W ..........\n",
      "     49.2  1.3  MLOT   393.84s\n",
      "C->A ..........\n",
      "     56.1  0.5  MLOT   644.97s\n",
      "C->D ..........\n",
      "     52.6  1.0  MLOT   449.56s\n",
      "C->W ..........\n",
      "     55.0  1.2  MLOT   461.70s\n",
      "D->A ..........\n",
      "     40.3  0.7  MLOT   225.84s\n",
      "D->C ..........\n",
      "     34.9  0.6  MLOT   235.67s\n",
      "D->W ..........\n",
      "     83.2  1.4  MLOT   217.49s\n",
      "W->A ..........\n",
      "     40.6  0.6  MLOT   299.21s\n",
      "W->C ..........\n",
      "     35.5  0.5  MLOT   282.59s\n",
      "W->D ..........\n",
      "     77.6  1.3  MLOT   226.46s\n",
      "\n",
      "Mean results and total time\n",
      "     50.6  0.9  MLOT   4384.89s\n"
     ]
    }
   ],
   "source": [
    "!python main.py -n --adaptationAlgoUsed MLOT"
   ]
  },
  {
   "cell_type": "code",
   "execution_count": 31,
   "metadata": {
    "scrolled": true
   },
   "outputs": [
    {
     "name": "stdout",
     "output_type": "stream",
     "text": [
      "Namespace(SA=False, adaptationAlgoUsed='MLOT', cross_val=False, cuda=False, d=70, detach=False, featuresToUse='surf', lr=0.001, margin=10, max_inner_iter_grad=1000, max_iter=2, new_space=True, numberIteration=10, pickle_name='test', reg_cl=0.2, reg_e=0.2, reg_l=0.0, reg_pca=1, rule='median', save_pickle=False, specific_comparaison='None', svd_solver='auto', test_exp=False, time_cross_val=1, type_classifier='1NN', verbose=False, which_dataset=-1)\n",
      "A->C ..........\n",
      "     40.5  0.3  MLOT   399.35s\n",
      "A->D ..........\n",
      "     40.4  1.5  MLOT   608.33s\n",
      "A->W ..........\n",
      "     45.5  1.4  MLOT   474.73s\n",
      "C->A ..........\n",
      "     54.5  0.6  MLOT   833.26s\n",
      "C->D ..........\n",
      "     49.1  1.9  MLOT   829.90s\n",
      "C->W ..........\n",
      "     51.3  1.1  MLOT   930.67s\n",
      "D->A ..........\n",
      "     39.1  0.3  MLOT   281.25s\n",
      "D->C ..........\n",
      "     33.8  0.5  MLOT   278.25s\n",
      "D->W ..........\n",
      "     84.6  0.7  MLOT   212.75s\n",
      "W->A ..........\n",
      "     39.2  0.6  MLOT   280.92s\n",
      "W->C ..........\n",
      "     35.3  0.4  MLOT   319.45s\n",
      "W->D ..........\n",
      "     77.1  1.3  MLOT   185.39s\n",
      "\n",
      "Mean results and total time\n",
      "     49.2  0.9  MLOT   5634.26s\n"
     ]
    }
   ],
   "source": [
    "!python main.py -n --adaptationAlgoUsed MLOT --max_iter 2 --max_inner_iter_grad 1000 --reg_l 0"
   ]
  },
  {
   "cell_type": "code",
   "execution_count": 29,
   "metadata": {
    "scrolled": true
   },
   "outputs": [
    {
     "name": "stdout",
     "output_type": "stream",
     "text": [
      "Namespace(SA=False, adaptationAlgoUsed='MLOT_id', cross_val=False, cuda=False, d=70, detach=False, featuresToUse='surf', lr=0.001, margin=10, max_inner_iter_grad=1000, max_iter=2, new_space=True, numberIteration=10, pickle_name='test', reg_cl=0.2, reg_e=0.2, reg_l=0.0, reg_pca=1, rule='median', save_pickle=False, specific_comparaison='None', svd_solver='auto', test_exp=False, time_cross_val=1, type_classifier='1NN', verbose=False, which_dataset=-1)\n",
      "A->C .\n",
      "     40.3  0.0  MLOT_id  10.80s\n",
      "A->D .\n",
      "     39.5  0.0  MLOT_id   6.55s\n",
      "A->W .\n",
      "     42.4  0.0  MLOT_id  16.37s\n",
      "C->A .\n",
      "     51.3  0.0  MLOT_id  30.20s\n",
      "C->D .\n",
      "     48.4  0.0  MLOT_id   6.69s\n",
      "C->W .\n",
      "     49.2  0.0  MLOT_id  21.43s\n",
      "D->A .\n",
      "     36.7  0.0  MLOT_id   1.86s\n",
      "D->C .\n",
      "     35.4  0.0  MLOT_id   1.98s\n",
      "D->W .\n",
      "     82.4  0.0  MLOT_id   1.60s\n",
      "W->A .\n",
      "     39.6  0.0  MLOT_id   2.72s\n",
      "W->C .\n",
      "     35.7  0.0  MLOT_id   2.58s\n",
      "W->D .\n",
      "     75.2  0.0  MLOT_id   3.47s\n",
      "\n",
      "Mean results and total time\n",
      "     48.0  0.0  MLOT_id 106.23s\n"
     ]
    }
   ],
   "source": [
    "!python main.py -n --adaptationAlgoUsed MLOT_id --max_iter 2 --max_inner_iter_grad 1000 --reg_l 0"
   ]
  },
  {
   "cell_type": "code",
   "execution_count": 30,
   "metadata": {
    "scrolled": true
   },
   "outputs": [
    {
     "name": "stdout",
     "output_type": "stream",
     "text": [
      "Namespace(SA=False, adaptationAlgoUsed='MLOT_id', cross_val=False, cuda=False, d=70, detach=False, featuresToUse='surf', lr=0.001, margin=10, max_inner_iter_grad=1, max_iter=10, new_space=True, numberIteration=10, pickle_name='test', reg_cl=0.2, reg_e=0.2, reg_l=1, reg_pca=1, rule='median', save_pickle=False, specific_comparaison='None', svd_solver='auto', test_exp=False, time_cross_val=1, type_classifier='1NN', verbose=False, which_dataset=-1)\n",
      "A->C .\n",
      "     40.6  0.0  MLOT_id  11.29s\n",
      "A->D .\n",
      "     42.0  0.0  MLOT_id   7.53s\n",
      "A->W .\n",
      "     43.4  0.0  MLOT_id   7.85s\n",
      "C->A .\n",
      "     51.7  0.0  MLOT_id  11.83s\n",
      "C->D .\n",
      "     46.5  0.0  MLOT_id   8.45s\n",
      "C->W .\n",
      "     49.8  0.0  MLOT_id   8.79s\n",
      "D->A .\n",
      "     38.1  0.0  MLOT_id   4.33s\n",
      "D->C .\n",
      "     34.8  0.0  MLOT_id   5.20s\n",
      "D->W .\n",
      "     81.7  0.0  MLOT_id   3.90s\n",
      "W->A .\n",
      "     38.1  0.0  MLOT_id   4.84s\n",
      "W->C .\n",
      "     35.1  0.0  MLOT_id   5.50s\n",
      "W->D .\n",
      "     75.2  0.0  MLOT_id   3.96s\n",
      "\n",
      "Mean results and total time\n",
      "     48.1  0.0  MLOT_id  83.47s\n"
     ]
    }
   ],
   "source": [
    "!python main.py -n --adaptationAlgoUsed MLOT_id"
   ]
  },
  {
   "cell_type": "markdown",
   "metadata": {},
   "source": [
    "# Pytorch version of MLOT"
   ]
  },
  {
   "cell_type": "markdown",
   "metadata": {},
   "source": [
    "OTSAMLl and OTSAMLnl are two implementation of MLOT but instead of using LMNN update, we use pytorch automatic differentiation. This explain the little difference between the OTSAMLl (which has only a linear matrix as NN) and OTML. OTSAMLnl is the non-linear version, the exact architecture of this NN is available in the code. This code is still in progress and it is clearly not optimize as there is very often swap between numpy and torch tensor."
   ]
  },
  {
   "cell_type": "code",
   "execution_count": 10,
   "metadata": {},
   "outputs": [],
   "source": [
    "import recreate_table"
   ]
  },
  {
   "cell_type": "code",
   "execution_count": 11,
   "metadata": {},
   "outputs": [
    {
     "name": "stdout",
     "output_type": "stream",
     "text": [
      "\\newpage Feature :$ surf_SA $ Cheat  True \\newline\n",
      "\\begin{tabular}{lll}\n",
      "\\toprule\n",
      "         dataset &        OTSAMLl &       OTSAMLnl \\\\\n",
      "\\midrule\n",
      " A$\\rightarrow$C &  \\textbf{43.1} &           42.9 \\\\\n",
      " A$\\rightarrow$D &           45.9 &  \\textbf{49.0} \\\\\n",
      " A$\\rightarrow$W &  \\textbf{52.9} &           52.5 \\\\\n",
      " C$\\rightarrow$A &           53.4 &  \\textbf{55.7} \\\\\n",
      " C$\\rightarrow$D &           51.6 &  \\textbf{55.4} \\\\\n",
      " C$\\rightarrow$W &           56.6 &  \\textbf{56.9} \\\\\n",
      " D$\\rightarrow$A &  \\textbf{43.2} &           40.9 \\\\\n",
      " D$\\rightarrow$C &           36.7 &  \\textbf{37.1} \\\\\n",
      " D$\\rightarrow$W &  \\textbf{90.8} &           90.8 \\\\\n",
      " W$\\rightarrow$A &  \\textbf{44.5} &           43.8 \\\\\n",
      " W$\\rightarrow$C &           36.6 &  \\textbf{37.2} \\\\\n",
      " W$\\rightarrow$D &  \\textbf{92.4} &           92.4 \\\\\n",
      "             AVG &             54 &  \\textbf{54.6} \\\\\n",
      "              nb &          366.8 &          498.7 \\\\\n",
      "\\bottomrule\n",
      "\\end{tabular}\n",
      "\n",
      "\\newpage Feature :$ surf_SA $ Cheat  False \\newline\n",
      "\\begin{tabular}{lll}\n",
      "\\toprule\n",
      "         dataset &        OTSAMLl &       OTSAMLnl \\\\\n",
      "\\midrule\n",
      " A$\\rightarrow$C &  \\textbf{40.5} &           38.9 \\\\\n",
      " A$\\rightarrow$D &           39.5 &  \\textbf{40.1} \\\\\n",
      " A$\\rightarrow$W &  \\textbf{42.7} &             40 \\\\\n",
      " C$\\rightarrow$A &  \\textbf{53.1} &           52.9 \\\\\n",
      " C$\\rightarrow$D &  \\textbf{51.6} &             49 \\\\\n",
      " C$\\rightarrow$W &  \\textbf{43.1} &           43.1 \\\\\n",
      " D$\\rightarrow$A &           36.6 &  \\textbf{37.3} \\\\\n",
      " D$\\rightarrow$C &           34.3 &  \\textbf{34.4} \\\\\n",
      " D$\\rightarrow$W &  \\textbf{89.2} &           88.1 \\\\\n",
      " W$\\rightarrow$A &           34.8 &  \\textbf{36.1} \\\\\n",
      " W$\\rightarrow$C &           31.8 &  \\textbf{33.6} \\\\\n",
      " W$\\rightarrow$D &           89.8 &  \\textbf{91.1} \\\\\n",
      "             AVG &  \\textbf{48.9} &           48.7 \\\\\n",
      "              nb &          366.8 &          498.7 \\\\\n",
      "\\bottomrule\n",
      "\\end{tabular}\n",
      "\n"
     ]
    }
   ],
   "source": [
    "recreate_table.creat_all_cheat_tables(names=\"OTSAMLl,OTSAMLnl\", features=\"surf_SA\",)"
   ]
  },
  {
   "cell_type": "code",
   "execution_count": null,
   "metadata": {},
   "outputs": [],
   "source": []
  }
 ],
 "metadata": {
  "kernelspec": {
   "display_name": "Python 3",
   "language": "python",
   "name": "python3"
  },
  "language_info": {
   "codemirror_mode": {
    "name": "ipython",
    "version": 3
   },
   "file_extension": ".py",
   "mimetype": "text/x-python",
   "name": "python",
   "nbconvert_exporter": "python",
   "pygments_lexer": "ipython3",
   "version": "3.7.4"
  }
 },
 "nbformat": 4,
 "nbformat_minor": 2
}
