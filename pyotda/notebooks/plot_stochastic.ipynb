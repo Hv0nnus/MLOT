{
 "cells": [
  {
   "cell_type": "code",
   "execution_count": 1,
   "metadata": {
    "collapsed": false
   },
   "outputs": [],
   "source": [
    "%matplotlib inline"
   ]
  },
  {
   "cell_type": "markdown",
   "metadata": {},
   "source": [
    "\n",
    "# Stochastic examples\n",
    "\n",
    "\n",
    "This example is designed to show how to use the stochatic optimization\n",
    "algorithms for descrete and semicontinous measures from the POT library.\n",
    "\n",
    "\n"
   ]
  },
  {
   "cell_type": "code",
   "execution_count": 2,
   "metadata": {
    "collapsed": false
   },
   "outputs": [],
   "source": [
    "# Author: Kilian Fatras <kilian.fatras@gmail.com>\n",
    "#\n",
    "# License: MIT License\n",
    "\n",
    "import matplotlib.pylab as pl\n",
    "import numpy as np\n",
    "import ot\n",
    "import ot.plot"
   ]
  },
  {
   "cell_type": "markdown",
   "metadata": {},
   "source": [
    "COMPUTE TRANSPORTATION MATRIX FOR SEMI-DUAL PROBLEM\n",
    "############################################################################\n",
    "\n"
   ]
  },
  {
   "cell_type": "code",
   "execution_count": 3,
   "metadata": {
    "collapsed": false
   },
   "outputs": [
    {
     "name": "stdout",
     "output_type": "stream",
     "text": [
      "------------SEMI-DUAL PROBLEM------------\n"
     ]
    }
   ],
   "source": [
    "print(\"------------SEMI-DUAL PROBLEM------------\")"
   ]
  },
  {
   "cell_type": "markdown",
   "metadata": {},
   "source": [
    "DISCRETE CASE\n",
    "Sample two discrete measures for the discrete case\n",
    "---------------------------------------------\n",
    "\n",
    "Define 2 discrete measures a and b, the points where are defined the source\n",
    "and the target measures and finally the cost matrix c.\n",
    "\n"
   ]
  },
  {
   "cell_type": "code",
   "execution_count": 4,
   "metadata": {
    "collapsed": false
   },
   "outputs": [],
   "source": [
    "n_source = 7\n",
    "n_target = 4\n",
    "reg = 1\n",
    "numItermax = 1000\n",
    "\n",
    "a = ot.utils.unif(n_source)\n",
    "b = ot.utils.unif(n_target)\n",
    "\n",
    "rng = np.random.RandomState(0)\n",
    "X_source = rng.randn(n_source, 2)\n",
    "Y_target = rng.randn(n_target, 2)\n",
    "M = ot.dist(X_source, Y_target)"
   ]
  },
  {
   "cell_type": "markdown",
   "metadata": {},
   "source": [
    "Call the \"SAG\" method to find the transportation matrix in the discrete case\n",
    "---------------------------------------------\n",
    "\n",
    "Define the method \"SAG\", call ot.solve_semi_dual_entropic and plot the\n",
    "results.\n",
    "\n"
   ]
  },
  {
   "cell_type": "code",
   "execution_count": 5,
   "metadata": {
    "collapsed": false
   },
   "outputs": [
    {
     "name": "stdout",
     "output_type": "stream",
     "text": [
      "[[2.55553509e-02 9.96395660e-02 1.76579142e-02 4.31178196e-06]\n",
      " [1.21640234e-01 1.25357448e-02 1.30225078e-03 7.37891338e-03]\n",
      " [3.56123975e-03 7.61451746e-02 6.31505947e-02 1.33831456e-07]\n",
      " [2.61515202e-02 3.34246014e-02 8.28734709e-02 4.07550428e-04]\n",
      " [9.85500870e-03 7.52288517e-04 1.08262628e-02 1.21423583e-01]\n",
      " [2.16904253e-02 9.03825797e-04 1.87178503e-03 1.18391107e-01]\n",
      " [4.15462212e-02 2.65987989e-02 7.23177216e-02 2.39440107e-03]]\n"
     ]
    }
   ],
   "source": [
    "method = \"SAG\"\n",
    "sag_pi = ot.stochastic.solve_semi_dual_entropic(a, b, M, reg, method,\n",
    "                                                numItermax)\n",
    "print(sag_pi)"
   ]
  },
  {
   "cell_type": "markdown",
   "metadata": {},
   "source": [
    "SEMICONTINOUS CASE\n",
    "Sample one general measure a, one discrete measures b for the semicontinous\n",
    "case\n",
    "---------------------------------------------\n",
    "\n",
    "Define one general measure a, one discrete measures b, the points where\n",
    "are defined the source and the target measures and finally the cost matrix c.\n",
    "\n"
   ]
  },
  {
   "cell_type": "code",
   "execution_count": 6,
   "metadata": {
    "collapsed": false
   },
   "outputs": [],
   "source": [
    "n_source = 7\n",
    "n_target = 4\n",
    "reg = 1\n",
    "numItermax = 1000\n",
    "log = True\n",
    "\n",
    "a = ot.utils.unif(n_source)\n",
    "b = ot.utils.unif(n_target)\n",
    "\n",
    "rng = np.random.RandomState(0)\n",
    "X_source = rng.randn(n_source, 2)\n",
    "Y_target = rng.randn(n_target, 2)\n",
    "M = ot.dist(X_source, Y_target)"
   ]
  },
  {
   "cell_type": "markdown",
   "metadata": {},
   "source": [
    "Call the \"ASGD\" method to find the transportation matrix in the semicontinous\n",
    "case\n",
    "---------------------------------------------\n",
    "\n",
    "Define the method \"ASGD\", call ot.solve_semi_dual_entropic and plot the\n",
    "results.\n",
    "\n"
   ]
  },
  {
   "cell_type": "code",
   "execution_count": 7,
   "metadata": {
    "collapsed": false
   },
   "outputs": [
    {
     "name": "stdout",
     "output_type": "stream",
     "text": [
      "[3.75309361 7.63288278 3.76418767 2.53747778 1.70389504 3.53981297\n",
      " 2.67663944] [-2.49164966 -2.25281897 -0.77666675  5.52113539]\n",
      "[[2.19699465e-02 1.03185982e-01 1.76983379e-02 2.87611188e-06]\n",
      " [1.20688044e-01 1.49823131e-02 1.50635578e-03 5.68043045e-03]\n",
      " [3.01194583e-03 7.75764779e-02 6.22686313e-02 8.78225379e-08]\n",
      " [2.28707628e-02 3.52120795e-02 8.44977549e-02 2.76545693e-04]\n",
      " [1.19721129e-02 1.10087991e-03 1.53333937e-02 1.14450756e-01]\n",
      " [2.65247890e-02 1.33140544e-03 2.66861405e-03 1.12332334e-01]\n",
      " [3.71512413e-02 2.86513804e-02 7.53932500e-02 1.66127118e-03]]\n"
     ]
    }
   ],
   "source": [
    "method = \"ASGD\"\n",
    "asgd_pi, log_asgd = ot.stochastic.solve_semi_dual_entropic(a, b, M, reg, method,\n",
    "                                                           numItermax, log=log)\n",
    "print(log_asgd['alpha'], log_asgd['beta'])\n",
    "print(asgd_pi)"
   ]
  },
  {
   "cell_type": "markdown",
   "metadata": {},
   "source": [
    "Compare the results with the Sinkhorn algorithm\n",
    "---------------------------------------------\n",
    "\n",
    "Call the Sinkhorn algorithm from POT\n",
    "\n"
   ]
  },
  {
   "cell_type": "code",
   "execution_count": 8,
   "metadata": {
    "collapsed": false
   },
   "outputs": [
    {
     "name": "stdout",
     "output_type": "stream",
     "text": [
      "[[2.55535622e-02 9.96413843e-02 1.76578860e-02 4.31043335e-06]\n",
      " [1.21640742e-01 1.25369034e-02 1.30234529e-03 7.37715259e-03]\n",
      " [3.56096458e-03 7.61460101e-02 6.31500344e-02 1.33788624e-07]\n",
      " [2.61499607e-02 3.34255577e-02 8.28741973e-02 4.07427179e-04]\n",
      " [9.85698720e-03 7.52505948e-04 1.08291770e-02 1.21418473e-01]\n",
      " [2.16947591e-02 9.04086158e-04 1.87228707e-03 1.18386011e-01]\n",
      " [4.15442692e-02 2.65998963e-02 7.23192701e-02 2.39370724e-03]]\n"
     ]
    }
   ],
   "source": [
    "sinkhorn_pi = ot.sinkhorn(a, b, M, reg)\n",
    "print(sinkhorn_pi)"
   ]
  },
  {
   "cell_type": "markdown",
   "metadata": {},
   "source": [
    "PLOT TRANSPORTATION MATRIX\n",
    "#############################################################################\n",
    "\n"
   ]
  },
  {
   "cell_type": "markdown",
   "metadata": {},
   "source": [
    "Plot SAG results\n",
    "----------------\n",
    "\n"
   ]
  },
  {
   "cell_type": "code",
   "execution_count": 9,
   "metadata": {
    "collapsed": false
   },
   "outputs": [
    {
     "data": {
      "image/png": "[encoded data removed]",
      "text/plain": [
       "<Figure size 360x360 with 3 Axes>"
      ]
     },
     "metadata": {},
     "output_type": "display_data"
    }
   ],
   "source": [
    "pl.figure(4, figsize=(5, 5))\n",
    "ot.plot.plot1D_mat(a, b, sag_pi, 'semi-dual : OT matrix SAG')\n",
    "pl.show()"
   ]
  },
  {
   "cell_type": "markdown",
   "metadata": {},
   "source": [
    "Plot ASGD results\n",
    "-----------------\n",
    "\n"
   ]
  },
  {
   "cell_type": "code",
   "execution_count": 10,
   "metadata": {
    "collapsed": false
   },
   "outputs": [
    {
     "data": {
      "image/png": "[encoded data removed]",
      "text/plain": [
       "<Figure size 360x360 with 3 Axes>"
      ]
     },
     "metadata": {},
     "output_type": "display_data"
    }
   ],
   "source": [
    "pl.figure(4, figsize=(5, 5))\n",
    "ot.plot.plot1D_mat(a, b, asgd_pi, 'semi-dual : OT matrix ASGD')\n",
    "pl.show()"
   ]
  },
  {
   "cell_type": "markdown",
   "metadata": {},
   "source": [
    "Plot Sinkhorn results\n",
    "---------------------\n",
    "\n"
   ]
  },
  {
   "cell_type": "code",
   "execution_count": 11,
   "metadata": {
    "collapsed": false
   },
   "outputs": [
    {
     "data": {
      "image/png": "[encoded data removed]",
      "text/plain": [
       "<Figure size 360x360 with 3 Axes>"
      ]
     },
     "metadata": {},
     "output_type": "display_data"
    }
   ],
   "source": [
    "pl.figure(4, figsize=(5, 5))\n",
    "ot.plot.plot1D_mat(a, b, sinkhorn_pi, 'OT matrix Sinkhorn')\n",
    "pl.show()"
   ]
  },
  {
   "cell_type": "markdown",
   "metadata": {},
   "source": [
    "COMPUTE TRANSPORTATION MATRIX FOR DUAL PROBLEM\n",
    "############################################################################\n",
    "\n"
   ]
  },
  {
   "cell_type": "code",
   "execution_count": 12,
   "metadata": {
    "collapsed": false
   },
   "outputs": [
    {
     "name": "stdout",
     "output_type": "stream",
     "text": [
      "------------DUAL PROBLEM------------\n"
     ]
    }
   ],
   "source": [
    "print(\"------------DUAL PROBLEM------------\")"
   ]
  },
  {
   "cell_type": "markdown",
   "metadata": {},
   "source": [
    "SEMICONTINOUS CASE\n",
    "Sample one general measure a, one discrete measures b for the semicontinous\n",
    "case\n",
    "---------------------------------------------\n",
    "\n",
    "Define one general measure a, one discrete measures b, the points where\n",
    "are defined the source and the target measures and finally the cost matrix c.\n",
    "\n"
   ]
  },
  {
   "cell_type": "code",
   "execution_count": 13,
   "metadata": {
    "collapsed": false
   },
   "outputs": [],
   "source": [
    "n_source = 7\n",
    "n_target = 4\n",
    "reg = 1\n",
    "numItermax = 100000\n",
    "lr = 0.1\n",
    "batch_size = 3\n",
    "log = True\n",
    "\n",
    "a = ot.utils.unif(n_source)\n",
    "b = ot.utils.unif(n_target)\n",
    "\n",
    "rng = np.random.RandomState(0)\n",
    "X_source = rng.randn(n_source, 2)\n",
    "Y_target = rng.randn(n_target, 2)\n",
    "M = ot.dist(X_source, Y_target)"
   ]
  },
  {
   "cell_type": "markdown",
   "metadata": {},
   "source": [
    "Call the \"SGD\" dual method to find the transportation matrix in the\n",
    "semicontinous case\n",
    "---------------------------------------------\n",
    "\n",
    "Call ot.solve_dual_entropic and plot the results.\n",
    "\n"
   ]
  },
  {
   "cell_type": "code",
   "execution_count": 14,
   "metadata": {
    "collapsed": false
   },
   "outputs": [
    {
     "name": "stdout",
     "output_type": "stream",
     "text": [
      "[ 1.67648902  5.3770004   1.70385554  0.4276547  -0.77206786  1.0474898\n",
      "  0.54202203] [-0.23723788 -0.20259434  1.30855788  8.06179985]\n",
      "[[2.62451875e-02 1.00499531e-01 1.78515577e-02 4.57450829e-06]\n",
      " [1.20510690e-01 1.21972758e-02 1.27002374e-03 7.55197481e-03]\n",
      " [3.65708350e-03 7.67963231e-02 6.38381061e-02 1.41974930e-07]\n",
      " [2.64286344e-02 3.31748063e-02 8.24445965e-02 4.25479786e-04]\n",
      " [9.59295422e-03 7.19190875e-04 1.03739180e-02 1.22100712e-01]\n",
      " [2.09087627e-02 8.55676046e-04 1.77617241e-03 1.17896019e-01]\n",
      " [4.18792948e-02 2.63326297e-02 7.17598381e-02 2.49335733e-03]]\n"
     ]
    }
   ],
   "source": [
    "sgd_dual_pi, log_sgd = ot.stochastic.solve_dual_entropic(a, b, M, reg,\n",
    "                                                         batch_size, numItermax,\n",
    "                                                         lr, log=log)\n",
    "print(log_sgd['alpha'], log_sgd['beta'])\n",
    "print(sgd_dual_pi)"
   ]
  },
  {
   "cell_type": "markdown",
   "metadata": {},
   "source": [
    "Compare the results with the Sinkhorn algorithm\n",
    "---------------------------------------------\n",
    "\n",
    "Call the Sinkhorn algorithm from POT\n",
    "\n"
   ]
  },
  {
   "cell_type": "code",
   "execution_count": 15,
   "metadata": {
    "collapsed": false
   },
   "outputs": [
    {
     "name": "stdout",
     "output_type": "stream",
     "text": [
      "[[2.55535622e-02 9.96413843e-02 1.76578860e-02 4.31043335e-06]\n",
      " [1.21640742e-01 1.25369034e-02 1.30234529e-03 7.37715259e-03]\n",
      " [3.56096458e-03 7.61460101e-02 6.31500344e-02 1.33788624e-07]\n",
      " [2.61499607e-02 3.34255577e-02 8.28741973e-02 4.07427179e-04]\n",
      " [9.85698720e-03 7.52505948e-04 1.08291770e-02 1.21418473e-01]\n",
      " [2.16947591e-02 9.04086158e-04 1.87228707e-03 1.18386011e-01]\n",
      " [4.15442692e-02 2.65998963e-02 7.23192701e-02 2.39370724e-03]]\n"
     ]
    }
   ],
   "source": [
    "sinkhorn_pi = ot.sinkhorn(a, b, M, reg)\n",
    "print(sinkhorn_pi)"
   ]
  },
  {
   "cell_type": "markdown",
   "metadata": {},
   "source": [
    "Plot  SGD results\n",
    "-----------------\n",
    "\n"
   ]
  },
  {
   "cell_type": "code",
   "execution_count": 16,
   "metadata": {
    "collapsed": false
   },
   "outputs": [
    {
     "data": {
      "image/png": "[encoded data removed]",
      "text/plain": [
       "<Figure size 360x360 with 3 Axes>"
      ]
     },
     "metadata": {},
     "output_type": "display_data"
    }
   ],
   "source": [
    "pl.figure(4, figsize=(5, 5))\n",
    "ot.plot.plot1D_mat(a, b, sgd_dual_pi, 'dual : OT matrix SGD')\n",
    "pl.show()"
   ]
  },
  {
   "cell_type": "markdown",
   "metadata": {},
   "source": [
    "Plot Sinkhorn results\n",
    "---------------------\n",
    "\n"
   ]
  },
  {
   "cell_type": "code",
   "execution_count": 17,
   "metadata": {
    "collapsed": false
   },
   "outputs": [
    {
     "data": {
      "image/png": "[encoded data removed]",
      "text/plain": [
       "<Figure size 360x360 with 3 Axes>"
      ]
     },
     "metadata": {},
     "output_type": "display_data"
    }
   ],
   "source": [
    "pl.figure(4, figsize=(5, 5))\n",
    "ot.plot.plot1D_mat(a, b, sinkhorn_pi, 'OT matrix Sinkhorn')\n",
    "pl.show()"
   ]
  }
 ],
 "metadata": {
  "kernelspec": {
   "display_name": "Python 3",
   "language": "python",
   "name": "python3"
  },
  "language_info": {
   "codemirror_mode": {
    "name": "ipython",
    "version": 3
   },
   "file_extension": ".py",
   "mimetype": "text/x-python",
   "name": "python",
   "nbconvert_exporter": "python",
   "pygments_lexer": "ipython3",
   "version": "3.6.5"
  }
 },
 "nbformat": 4,
 "nbformat_minor": 0
}
